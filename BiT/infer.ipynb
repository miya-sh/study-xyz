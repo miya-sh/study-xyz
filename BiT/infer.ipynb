{
 "cells": [
  {
   "cell_type": "markdown",
   "metadata": {},
   "source": [
    "## Fine-tuningしたBiTで推論を試す"
   ]
  },
  {
   "cell_type": "code",
   "execution_count": 1,
   "metadata": {},
   "outputs": [],
   "source": [
    "import pathlib\n",
    "import json\n",
    "import logging\n",
    "\n",
    "import tensorflow as tf\n",
    "import tensorflow_hub as tfhub\n",
    "\n",
    "\n",
    "tf.get_logger().setLevel(logging.WARNING)\n",
    "for d in tf.config.experimental.list_physical_devices('GPU'):\n",
    "    tf.config.experimental.set_memory_growth(d, True)"
   ]
  },
  {
   "cell_type": "code",
   "execution_count": 2,
   "metadata": {},
   "outputs": [
    {
     "data": {
      "text/plain": [
       "('2.3.0', '0.8.0')"
      ]
     },
     "execution_count": 2,
     "metadata": {},
     "output_type": "execute_result"
    }
   ],
   "source": [
    "tf.__version__, tfhub.__version__"
   ]
  },
  {
   "cell_type": "markdown",
   "metadata": {},
   "source": [
    "推論対象の画像をデータセット化  \n",
    "\n",
    "ファインチューニング時の Crop size にリサイズする。"
   ]
  },
  {
   "cell_type": "code",
   "execution_count": 3,
   "metadata": {},
   "outputs": [],
   "source": [
    "target_dir = pathlib.Path('test').resolve()\n",
    "\n",
    "def generator():\n",
    "    path_iter = filter(lambda p: p.stem.isdigit() and p.suffix in {'.png', '.jpg'}, target_dir.iterdir())\n",
    "    for path in sorted(path_iter, key=lambda p: int(p.stem)):\n",
    "        image = tf.image.decode_image(tf.io.read_file(str(path)))\n",
    "        image = tf.image.resize(image, [480, 480])\n",
    "        image = image / 255.\n",
    "        yield image, tf.constant(path.name)\n",
    "\n",
    "batch = 32\n",
    "ds = tf.data.Dataset.from_generator(generator, (tf.float32, tf.string))\n",
    "ds = ds.batch(batch).prefetch(buffer_size=tf.data.experimental.AUTOTUNE)\n",
    "\n",
    "model_dir = pathlib.Path('models/m-r50x1/2').resolve()\n",
    "labels = json.loads((model_dir / 'label_names.json').read_text())\n",
    "model = tfhub.KerasLayer(str(model_dir / 'model'), trainable=False)"
   ]
  },
  {
   "cell_type": "code",
   "execution_count": 4,
   "metadata": {},
   "outputs": [
    {
     "data": {
      "application/json": {
       "0.jpg": "cat",
       "1.jpg": "cat",
       "10.jpg": "cat",
       "11.jpg": "dog",
       "12.jpg": "dog",
       "13.jpg": "dog",
       "14.jpg": "cat",
       "15.jpg": "cat",
       "16.jpg": "dog",
       "17.jpg": "cat",
       "18.jpg": "dog",
       "19.jpg": "dog",
       "2.jpg": "cat",
       "20.jpg": "cat",
       "21.jpg": "dog",
       "22.jpg": "cat",
       "23.jpg": "cat",
       "24.jpg": "cat",
       "25.jpg": "dog",
       "26.jpg": "dog",
       "27.jpg": "cat",
       "28.jpg": "dog",
       "29.jpg": "cat",
       "3.jpg": "dog",
       "30.jpg": "cat",
       "31.jpg": "dog",
       "4.jpg": "cat",
       "5.jpg": "dog",
       "6.jpg": "dog",
       "7.jpg": "dog",
       "8.jpg": "dog",
       "9.jpg": "dog"
      },
      "text/plain": [
       "<IPython.core.display.JSON object>"
      ]
     },
     "metadata": {
      "application/json": {
       "expanded": false,
       "root": "root"
      }
     },
     "output_type": "display_data"
    }
   ],
   "source": [
    "from IPython.display import JSON\n",
    "\n",
    "for images, ids in ds.take(1):\n",
    "    logits = model(images)\n",
    "\n",
    "    ids = ids.numpy()\n",
    "    indices = tf.math.argmax(logits, axis=1).numpy()\n",
    "\n",
    "    display(JSON({i.decode(): labels[j] for i, j in zip(ids, indices)}))"
   ]
  },
  {
   "cell_type": "code",
   "execution_count": null,
   "metadata": {},
   "outputs": [],
   "source": []
  }
 ],
 "metadata": {
  "kernelspec": {
   "display_name": "Python 3",
   "language": "python",
   "name": "python3"
  },
  "language_info": {
   "codemirror_mode": {
    "name": "ipython",
    "version": 3
   },
   "file_extension": ".py",
   "mimetype": "text/x-python",
   "name": "python",
   "nbconvert_exporter": "python",
   "pygments_lexer": "ipython3",
   "version": "3.7.3"
  }
 },
 "nbformat": 4,
 "nbformat_minor": 4
}
